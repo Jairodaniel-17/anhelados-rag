{
 "cells": [
  {
   "cell_type": "code",
   "execution_count": 20,
   "metadata": {},
   "outputs": [
    {
     "name": "stdout",
     "output_type": "stream",
     "text": [
      "{'results': [{'ID_Producto': 30, 'Nombre': 'Sorbete de granaea', 'Precio': 39.8}, {'ID_Producto': 43, 'Nombre': 'Sorbete de pistacho', 'Precio': 39.2}, {'ID_Producto': 7, 'Nombre': 'Platano tropical elite', 'Precio': 39.1}, {'ID_Producto': 66, 'Nombre': 'Dulce de leche premium', 'Precio': 38.8}, {'ID_Producto': 29, 'Nombre': 'Sorbete de sandía amarilla', 'Precio': 38.1}]}\n"
     ]
    }
   ],
   "source": [
    "import requests\n",
    "from pydantic import BaseModel\n",
    "class ConsultaAPI(BaseModel):\n",
    "    query: str\n",
    "    \n",
    "def consultar_db_via_api(query: str):\n",
    "    \"\"\"\n",
    "    Consulta la DB SQLite con una consulta puntual. Máximo puedes solicitar hasta 20 registros.\n",
    "\n",
    "    Parámetros:\n",
    "    - query (str): La consulta SQL a ejecutar en la base de datos.\n",
    "\n",
    "    Retorna:\n",
    "    - dict: Los resultados de la consulta en formato JSON.\n",
    "    \"\"\"\n",
    "    try:\n",
    "        # Eliminar comillas dobles al inicio y al final de la consulta\n",
    "        query = query.replace('\"', \"\")\n",
    "        q = ConsultaAPI(query=query)\n",
    "        response = requests.post(\n",
    "            url=\"https://jairodanielmt-anhelados.hf.space/execute\",\n",
    "            data=q.json(),  # Enviar el cuerpo de la solicitud como JSON\n",
    "            headers={\n",
    "                \"Content-Type\": \"application/json\"\n",
    "            },  # Asegurar el tipo de contenido\n",
    "        )\n",
    "        response.raise_for_status()\n",
    "        data = response.json()\n",
    "        return data\n",
    "    except requests.exceptions.RequestException as e:\n",
    "        print(f\"Error al consultar la API: {e}\")\n",
    "        if e.response is not None:\n",
    "            print(e.response.text)\n",
    "        return None\n",
    "\n",
    "\n",
    "# Ejemplo de uso\n",
    "consulta = \"SELECT ID_Producto, Nombre, Precio FROM productos ORDER BY Precio DESC LIMIT 5\"\n",
    "respuesta = consultar_db_via_api(consulta)\n",
    "print(respuesta)\n"
   ]
  },
  {
   "cell_type": "code",
   "execution_count": null,
   "metadata": {},
   "outputs": [],
   "source": []
  }
 ],
 "metadata": {
  "kernelspec": {
   "display_name": ".venv",
   "language": "python",
   "name": "python3"
  },
  "language_info": {
   "codemirror_mode": {
    "name": "ipython",
    "version": 3
   },
   "file_extension": ".py",
   "mimetype": "text/x-python",
   "name": "python",
   "nbconvert_exporter": "python",
   "pygments_lexer": "ipython3",
   "version": "3.12.4"
  }
 },
 "nbformat": 4,
 "nbformat_minor": 2
}
